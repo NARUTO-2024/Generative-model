{
 "cells": [
  {
   "cell_type": "markdown",
   "metadata": {},
   "source": [
    "# Generation of hyperspectral samples using Wasserstein-GANs"
   ]
  },
  {
   "cell_type": "markdown",
   "metadata": {},
   "source": [
    "Wasserstein-GANs are Generative Adversarial Models that can be used to generate synthetic data that approximates a specific input distribution of real data.\n",
    "\n",
    "In this notebook, we show how to use such a tool to generate *ex nihilo* synthetic hyperspectral samples."
   ]
  },
  {
   "cell_type": "raw",
   "metadata": {},
   "source": [
    "@inproceedings{audebert_generative_2018,\n",
    "        title = {Generative adversarial networks for realistic synthesis of hyperspectral samples},\n",
    "        booktitle = {2018 {IEEE} {International} {Geoscience} and {Remote} {Sensing} {Symposium} ({IGARSS})},\n",
    "        author = {Audebert, N. and Le Saux, B. and Lefèvre, S.},\n",
    "        month = jul,\n",
    "        year = {2018}\n",
    "}"
   ]
  },
  {
   "cell_type": "code",
   "metadata": {
    "ExecuteTime": {
     "end_time": "2024-11-08T08:16:57.726470Z",
     "start_time": "2024-11-08T08:16:56.767766Z"
    }
   },
   "source": [
    "import matplotlib.pyplot as plt\n",
    "%matplotlib inline\n",
    "import numpy as np\n",
    "import torch\n",
    "import torch.utils.data\n",
    "from scipy.io import loadmat\n",
    "from skimage import io\n",
    "import spectral"
   ],
   "outputs": [],
   "execution_count": 1
  },
  {
   "cell_type": "markdown",
   "metadata": {},
   "source": [
    "We load the Pavia University dataset. The `.mat` files are available on [this website](http://www.ehu.eus/ccwintco/index.php?title=Hyperspectral_Remote_Sensing_Scenes)."
   ]
  },
  {
   "metadata": {
    "ExecuteTime": {
     "end_time": "2024-11-08T08:16:57.757728Z",
     "start_time": "2024-11-08T08:16:57.748445Z"
    }
   },
   "cell_type": "code",
   "source": [
    "import os\n",
    "\n",
    "current_dir = os.getcwd()\n",
    "# 构建 PaviaU.mat 文件的路径\n",
    "file_path = os.path.join(current_dir, 'PaviaU.mat')\n",
    "\n",
    "if not os.path.exists(file_path):\n",
    "    print(\"文件不存在\")\n",
    "else:\n",
    "    print(\"文件存在\")\n",
    "    \n",
    "file_path = os.path.join(current_dir, 'paviaU_gt.mat')\n",
    "if not os.path.exists(file_path):\n",
    "    print(\"文件不存在\")\n",
    "else:\n",
    "    print(\"文件存在\")"
   ],
   "outputs": [
    {
     "name": "stdout",
     "output_type": "stream",
     "text": [
      "文件存在\n",
      "文件存在\n"
     ]
    }
   ],
   "execution_count": 2
  },
  {
   "cell_type": "code",
   "metadata": {
    "ExecuteTime": {
     "end_time": "2024-11-08T08:16:58.194113Z",
     "start_time": "2024-11-08T08:16:57.931131Z"
    }
   },
   "source": [
    "\n",
    "current_dir = os.getcwd()\n",
    "\n",
    "# 构建 PaviaU.mat 和 PaviaU_gt.mat 文件的路径\n",
    "paviaU_path = os.path.join(current_dir,'PaviaU.mat')\n",
    "paviaU_gt_path = os.path.join(current_dir,'PaviaU_gt.mat')\n",
    "\n",
    "# 读取数据\n",
    "img = loadmat(paviaU_path)['paviaU']\n",
    "gt = loadmat(paviaU_gt_path)['paviaU_gt']\n",
    "\n",
    "# 输出数据以确认成功加载\n",
    "print(\"img:\", img)\n",
    "print(\"gt:\", gt)"
   ],
   "outputs": [
    {
     "name": "stdout",
     "output_type": "stream",
     "text": [
      "img: [[[ 647  499  464 ... 3221 3238 3250]\n",
      "  [ 604  546  527 ... 2442 2464 2528]\n",
      "  [ 621  746  556 ... 2308 2345 2361]\n",
      "  ...\n",
      "  [ 524  525  598 ... 2936 2940 2950]\n",
      "  [ 528  330   70 ... 2737 2774 2829]\n",
      "  [ 711  483  423 ... 2562 2539 2488]]\n",
      "\n",
      " [[ 705  681  668 ... 2607 2607 2609]\n",
      "  [ 891  692  453 ... 1581 1561 1522]\n",
      "  [ 547  511  604 ... 1535 1531 1538]\n",
      "  ...\n",
      "  [1149  658  434 ... 3247 3251 3277]\n",
      "  [ 917 1004  743 ... 2828 2806 2808]\n",
      "  [1037  849  547 ... 2491 2527 2522]]\n",
      "\n",
      " [[1084  875  706 ... 2108 2167 2183]\n",
      "  [ 335  517  611 ... 1105 1109 1095]\n",
      "  [1042  683  318 ...  806  791  814]\n",
      "  ...\n",
      "  [ 799  693  481 ... 2761 2791 2842]\n",
      "  [ 226  350  613 ... 2885 2879 2859]\n",
      "  [ 828  571  479 ... 2799 2809 2806]]\n",
      "\n",
      " ...\n",
      "\n",
      " [[ 733  617  708 ... 2190 2189 2176]\n",
      "  [ 785  796  979 ... 1963 1983 1972]\n",
      "  [ 826  828  928 ... 1905 1939 1965]\n",
      "  ...\n",
      "  [ 704  710  689 ... 2401 2385 2349]\n",
      "  [ 376  305    0 ... 2449 2448 2429]\n",
      "  [1146  919  707 ... 2504 2541 2523]]\n",
      "\n",
      " [[ 785  727  871 ... 2166 2179 2178]\n",
      "  [ 856  894  719 ... 2124 2141 2156]\n",
      "  [1088 1122 1126 ... 1972 1997 2041]\n",
      "  ...\n",
      "  [ 717  722  551 ... 2551 2551 2561]\n",
      "  [ 548  503  470 ... 2486 2452 2427]\n",
      "  [ 768  626  298 ... 2404 2432 2474]]\n",
      "\n",
      " [[1006  954  771 ... 2066 2132 2151]\n",
      "  [ 970  745  853 ... 2216 2260 2246]\n",
      "  [1218 1255 1005 ... 2190 2222 2251]\n",
      "  ...\n",
      "  [ 593  387  428 ... 2382 2407 2423]\n",
      "  [ 593  751  655 ... 2312 2308 2289]\n",
      "  [ 889  720  449 ... 2416 2447 2485]]]\n",
      "gt: [[0 0 0 ... 0 0 0]\n",
      " [0 0 0 ... 0 0 0]\n",
      " [0 0 0 ... 0 0 0]\n",
      " ...\n",
      " [2 2 2 ... 0 0 0]\n",
      " [2 2 2 ... 0 0 0]\n",
      " [2 2 2 ... 0 0 0]]\n"
     ]
    }
   ],
   "execution_count": 3
  },
  {
   "cell_type": "markdown",
   "metadata": {},
   "source": [
    "The ground truth is shown below. We sample 10% from the pixels as training samples.\n",
    "\n"
   ]
  },
  {
   "cell_type": "code",
   "metadata": {
    "ExecuteTime": {
     "end_time": "2024-11-08T08:16:58.492727Z",
     "start_time": "2024-11-08T08:16:58.228066Z"
    }
   },
   "source": [
    "# 生成随机掩码，用于选择训练数据\n",
    "# mask会是一个与gt形状相同的布尔数组，其中随机约5%的位置为True（True意味着选择这些样本）\n",
    "mask = np.random.randint(0, 100, gt.shape) < 5\n",
    "\n",
    "# 复制地面真值(gt)，以便创建训练样本\n",
    "train_gt = np.copy(gt)\n",
    "\n",
    "# 使用布尔掩码更新训练地面真值\n",
    "# 把mask为False的位置（即gt中不属于训练样本的位置）设置为0\n",
    "train_gt[np.nonzero(~mask)] = 0\n",
    "\n",
    "# 复制地面真值(gt)，以便创建测试样本\n",
    "test_gt = np.copy(gt)\n",
    "\n",
    "# 使用训练地面真值更新测试地面真值\n",
    "# 把训练集中的样本（train_gt > 0）在测试集中的对应值设置为0，\n",
    "# 这样做的目的是确保训练集和测试集之间没有重叠\n",
    "test_gt[train_gt > 0] = 0\n",
    "\n",
    "rgb = img[:,:,(55,41,12)]\n",
    "rgb = (255 * (rgb.astype(np.float32) - rgb.min())/(rgb.max() - rgb.min())).astype(np.uint8)\n",
    "fig = plt.figure()\n",
    "fig.add_subplot(141)\n",
    "plt.imshow(rgb)\n",
    "plt.title(\"Composite\")\n",
    "fig.add_subplot(142)\n",
    "plt.imshow(gt)\n",
    "plt.title(\"Full ground truth\")\n",
    "fig.add_subplot(143)\n",
    "plt.imshow(mask)\n",
    "plt.title(\"Mask\")\n",
    "fig.add_subplot(144)\n",
    "plt.imshow(train_gt)\n",
    "plt.title(\"Train ground truth\")\n",
    "plt.show()"
   ],
   "outputs": [
    {
     "data": {
      "text/plain": [
       "<Figure size 640x480 with 4 Axes>"
      ],
      "image/png": "[encoded data removed]"
     },
     "metadata": {},
     "output_type": "display_data"
    }
   ],
   "execution_count": 4
  },
  {
   "cell_type": "markdown",
   "metadata": {},
   "source": [
    "We define a `HyperX` class to hold the dataset. Note that the label is encoded as a one-hot vector."
   ]
  },
  {
   "cell_type": "code",
   "metadata": {
    "ExecuteTime": {
     "end_time": "2024-11-08T08:16:58.570098Z",
     "start_time": "2024-11-08T08:16:58.511874Z"
    }
   },
   "source": [
    "from skimage import morphology\n",
    "\n",
    "class HyperX(torch.utils.data.Dataset):\n",
    "\n",
    "    def __init__(self, data, ground_truth, semi=False):\n",
    "        #data_loader = torch.utils.data.DataLoader(HyperX(img, train_gt if semi_supervised else gt), batch_size=mb_size, shuffle=True)\n",
    "        super(HyperX, self).__init__()\n",
    "\n",
    "        # 数值归一化，将数据规范化到[0, 1]之间\n",
    "        data = (data - data.min()) / (data.max() - data.min())  # 归一化逻辑\n",
    "        self.data = data  # 存储高光谱数据\n",
    "        self.gt = ground_truth  # 存储地面真值数据\n",
    "        self.n_classes = len(np.unique(ground_truth))\n",
    "        # ground_truth通常是一个二维数组\n",
    "        # np.unique(ground_truth)会生成一个一维数组，包含ground_truth中出现的所有不同的、唯一的值\n",
    "\n",
    "        if semi:\n",
    "            # 如果是半监督学习，使用膨胀操作提取邻域索引，半径为50像素\n",
    "            # morphology.disk(50) 创建半径为50的圆形结构元素\n",
    "            x_pos, y_pos = np.nonzero(morphology.dilation(ground_truth > 0, morphology.disk(50)))\n",
    "            #在这里，它会返回膨胀后布尔数组中所有为True（或者等价于1）的元素的坐标\n",
    "            #就是返回ground_truth大于0的点以及周围的点\n",
    "        else:\n",
    "            # 否则仅使用非零地面真值的位置\n",
    "            x_pos, y_pos = np.nonzero(ground_truth)\n",
    "\n",
    "        # 将(x, y)坐标索引组合成列表，用于访问数据\n",
    "        self.indices = [idx for idx in zip(x_pos, y_pos)]\n",
    "\n",
    "    def __len__(self):\n",
    "        # 返回数据集中样本的数量（即索引的数量）\n",
    "        return len(self.indices)\n",
    "\n",
    "    def __getitem__(self, i):\n",
    "        # 根据索引获取样本的坐标\n",
    "        x, y = self.indices[i]\n",
    "\n",
    "        # 假设提取 5x5 的图像块（可根据需要调整大小）\n",
    "        k = 32  # 选取一个 5x5 的区域（中心是 (x, y)）\n",
    "\n",
    "        # 确保不会越界\n",
    "        x_start = max(0, x - k)\n",
    "        x_end = min(self.data.shape[0], x + k + 1)  # 保证不越界\n",
    "        y_start = max(0, y - k)\n",
    "        y_end = min(self.data.shape[1], y + k + 1)  # 保证不越界\n",
    "\n",
    "        data = self.data[x_start:x_end, y_start:y_end, :]  # 选取区域\n",
    "\n",
    "        # 确保大小相同，填充或裁剪至相同大小\n",
    "        expected_size = (65, 65)  # 预期的 (height, width)\n",
    "        data_shape = data.shape[0:2]  # (height, width)\n",
    "        if data_shape != expected_size:\n",
    "            # 如果不相等，则需要填充（或裁剪）\n",
    "            data = np.pad(data, ((0, expected_size[0] - data_shape[0]),\n",
    "                                 (0, expected_size[1] - data_shape[1]),\n",
    "                                 (0, 0)), mode='constant')  # 用零填充\n",
    "            # 如果你选择裁剪应确保 data 形状不超过 (5, 5)\n",
    "\n",
    "        data = data.transpose(2, 0, 1)  # 将形状从 (height, width, channels) 转换为 (channels, height, width)\n",
    "\n",
    "        # 获取相应位置的标签\n",
    "        label = np.asarray(np.eye(self.n_classes)[self.gt[x, y]], dtype='int64')\n",
    "\n",
    "        # 将数据和标签转换为 PyTorch 的 tensor\n",
    "        return torch.from_numpy(data), torch.from_numpy(label)"
   ],
   "outputs": [],
   "execution_count": 5
  },
  {
   "cell_type": "code",
   "metadata": {
    "ExecuteTime": {
     "end_time": "2024-11-08T08:16:58.602094Z",
     "start_time": "2024-11-08T08:16:58.587088Z"
    }
   },
   "source": [
    "import os\n",
    "import torch.nn as nn\n",
    "import torch.autograd as autograd\n",
    "import torch.optim as optim\n",
    "import torch.nn.functional as F\n",
    "from tqdm import tqdm\n",
    "\n",
    "# 基本生成器：将噪声 + 条件输入映射为生成样本\n",
    "import torch\n",
    "import torch.nn as nn\n",
    "\n",
    "import torch\n",
    "import torch.nn as nn\n",
    "\n",
    "class Generator(nn.Module):\n",
    "    def __init__(self, z_dim, c_dim, h_dim):\n",
    "        super(Generator, self).__init__()\n",
    "\n",
    "        self.linear = nn.Sequential(\n",
    "            nn.Linear(z_dim + c_dim, h_dim),\n",
    "            nn.BatchNorm1d(h_dim),\n",
    "            nn.LeakyReLU(0.2),\n",
    "            nn.Linear(h_dim, h_dim * 8),  # 将 h_dim 扩展到 h_dim * 8\n",
    "            nn.BatchNorm1d(h_dim * 8),\n",
    "            nn.LeakyReLU(),\n",
    "        )\n",
    "\n",
    "        self.init_size = h_dim // 4\n",
    "        self.l1 = nn.Linear(h_dim * 8, 128 * 8 * 8)  # 修改为较小的中间形状\n",
    "\n",
    "        self.deconv = nn.Sequential(\n",
    "            nn.ConvTranspose2d(128, 64, kernel_size=4, stride=2, padding=1),    # 输入 (batch_size, 128, 8, 8) -> 输出 (batch_size, 64, 16, 16)\n",
    "            nn.BatchNorm2d(64),\n",
    "            nn.LeakyReLU(),\n",
    "\n",
    "            nn.ConvTranspose2d(64, 32, kernel_size=4, stride=2, padding=1),     # 输入 (batch_size, 64, 16, 16) -> 输出 (batch_size, 32, 32, 32)\n",
    "            nn.BatchNorm2d(32),\n",
    "            nn.LeakyReLU(),\n",
    "\n",
    "            nn.ConvTranspose2d(32, 16, kernel_size=4, stride=2, padding=1),     # 输入 (batch_size, 32, 32, 32) -> 输出 (batch_size, 16, 64, 64)\n",
    "            nn.BatchNorm2d(16),\n",
    "            nn.LeakyReLU(),\n",
    "\n",
    "            nn.ConvTranspose2d(16, 103, kernel_size=4, stride=2, padding=1),    # 输入 (batch_size, 16, 64, 64) -> 输出 (batch_size, 103, 128, 128)\n",
    "            nn.Tanh()  # 使用 Tanh 激活函数以生成最终图像\n",
    "        )\n",
    "\n",
    "    def forward(self, z, c):\n",
    "        inputs = torch.cat([z, c], 1)  # inputs: (batch_size, z_dim + c_dim)\n",
    "        x = self.linear(inputs)  # x: (batch_size, h_dim * 8)\n",
    "        x = self.l1(x).view(-1, 128, 8, 8)  # 为卷积层做准备  (batch_size, 128, 8, 8)\n",
    "        x = self.deconv(x)  # (batch_size, 3, 128, 128)\n",
    "\n",
    "        # 然后我们可以插值至最终输出大小 (65, 65)\n",
    "        x = nn.functional.interpolate(x, size=(65, 65), mode='bilinear', align_corners=False)  # (batch_size, 3, 65, 65)\n",
    "        return x\n",
    "\n",
    "\n",
    "# 基本判别器：样本 -> -∞（假） - 0 - 真实（+∞）\n",
    "class Discriminator(nn.Module):\n",
    "    def __init__(self, input_channels):\n",
    "        super(Discriminator, self).__init__()\n",
    "\n",
    "        self.conv_layers = nn.Sequential(\n",
    "            nn.Conv2d(input_channels, 32, kernel_size=4, stride=2, padding=1),   # 输入 (input_channels, 65, 65) -> 输出 (32, 33, 33)\n",
    "            nn.BatchNorm2d(32),\n",
    "            nn.LeakyReLU(0.2),\n",
    "\n",
    "            nn.Conv2d(32, 64, kernel_size=4, stride=2, padding=1),                # 输入 (32, 33, 33) -> 输出 (64, 17, 17)\n",
    "            nn.BatchNorm2d(64),\n",
    "            nn.LeakyReLU(0.2),\n",
    "\n",
    "            nn.Conv2d(64, 128, kernel_size=4, stride=2, padding=1),              # 输入 (64, 17, 17) -> 输出 (128, 9, 9)\n",
    "            nn.BatchNorm2d(128),\n",
    "            nn.LeakyReLU(0.2),\n",
    "\n",
    "            nn.Conv2d(128, 256, kernel_size=4, stride=2, padding=1),             # 输入 (128, 9, 9) -> 输出 (256, 5, 5)\n",
    "            nn.BatchNorm2d(256),\n",
    "            nn.LeakyReLU(0.2),\n",
    "\n",
    "            nn.Flatten()  # 展平成一维向量\n",
    "        )\n",
    "\n",
    "        # 动态获取展平后的特征维度\n",
    "        example_input = torch.rand(1, input_channels, 65, 65)  # 使用与实际输入相同的大小\n",
    "        with torch.no_grad():\n",
    "            example_output = self.conv_layers(example_input)\n",
    "        flat_feature_dim = example_output.view(-1).shape[0]  # 根据具体输出计算特征维度\n",
    "\n",
    "        self.fc = nn.Sequential(\n",
    "            nn.Linear(flat_feature_dim, 512),  # 降低全连接层的大小\n",
    "            nn.LeakyReLU(0.2),\n",
    "            nn.Dropout(0.4),\n",
    "\n",
    "            nn.Linear(512, 1),\n",
    "            nn.Sigmoid()\n",
    "        )\n",
    "\n",
    "    def forward(self, X):\n",
    "        # X 应为 (batch_size, input_channels, height, width)\n",
    "        X = self.conv_layers(X)  # 通过卷积层\n",
    "        X = self.fc(X)  # 通过全连接层\n",
    "        return X\n",
    "\n",
    "# 基本分类器：样本 -> 类别\n",
    "class Classifier(nn.Module):\n",
    "    def __init__(self, input_channels, c_dim, h_dim):\n",
    "        super(Classifier, self).__init__()\n",
    "\n",
    "        self.conv_layers = nn.Sequential(\n",
    "            nn.Conv2d(input_channels, 32, kernel_size=4, stride=2, padding=1),  # 输入 (input_channels, 65, 65) -> 输出 (32, 33, 33)\n",
    "            nn.LeakyReLU(),\n",
    "            nn.Conv2d(32, 64, kernel_size=4, stride=2, padding=1),              # 输出 (64, 17, 17)\n",
    "            nn.LeakyReLU(),\n",
    "            nn.Conv2d(64, 128, kernel_size=4, stride=2, padding=1),             # 输出 (128, 9, 9)\n",
    "            nn.LeakyReLU(),\n",
    "            nn.Conv2d(128, 256, kernel_size=4, stride=2, padding=1),            # 输出 (256, 5, 5)\n",
    "            nn.LeakyReLU(),\n",
    "            nn.Flatten()  # 会展平为 (batch_size, 256 * H * W)\n",
    "        )\n",
    "\n",
    "        # 动态获取展平后的特征维度\n",
    "        example_input = torch.rand(1, input_channels, 65, 65)  # 使用适当的输入大小\n",
    "        with torch.no_grad():\n",
    "            example_output = self.conv_layers(example_input)\n",
    "        flat_feature_dim = example_output.view(-1).shape[0]  # 得到展平特征的数量\n",
    "\n",
    "        # 定义全连接层\n",
    "        self.discriminator = nn.Sequential(\n",
    "            nn.Linear(flat_feature_dim, h_dim),  # 使用合适的隐藏层维度\n",
    "            nn.LeakyReLU(),\n",
    "            nn.Linear(h_dim, c_dim)  # 最后一层输出类别数\n",
    "        )\n",
    "\n",
    "        # 应用权重初始化\n",
    "        self.apply(self.weight_init)\n",
    "\n",
    "    def weight_init(self, m):\n",
    "        if isinstance(m, nn.Conv2d):\n",
    "            nn.init.normal_(m.weight, 0.0, 0.02)  # 使用正态分布初始化权重\n",
    "        elif isinstance(m, nn.Linear):\n",
    "            nn.init.normal_(m.weight, 0.0, 0.02)  # 使用正态分布初始化权重\n",
    "            nn.init.constant_(m.bias, 0)  # 初始偏置为 0\n",
    "\n",
    "    def forward(self, X):\n",
    "        # X 输入的形状为 (batch_size, input_channels, height, width)\n",
    "        X = self.conv_layers(X)  # 通过卷积层\n",
    "        return self.discriminator(X)  # 通过全连接层进行分类\n"
   ],
   "outputs": [],
   "execution_count": 6
  },
  {
   "metadata": {
    "ExecuteTime": {
     "end_time": "2024-11-08T08:16:58.802034Z",
     "start_time": "2024-11-08T08:16:58.619022Z"
    }
   },
   "cell_type": "code",
   "source": [
    "# 设置训练参数\n",
    "mb_size = 5           # 批次大小，表示每次训练所使用的样本数量\n",
    "z_dim = 30               # 噪声的维度，表示随机噪声的长度\n",
    "X_dim = img.shape[-1]   # 输入样本的特征维度，通常是图像的波段数量\n",
    "h_dim = 128            # 隐藏层的尺寸，定义网络中隐藏层的节点数量\n",
    "d_step = 5            # 每个生成器训练步骤前判别器训练的步骤数\n",
    "lr = 5e-5                # 学习率，控制权重更新的步长\n",
    "c_weight = 0.2           # 辅助分类器的权重，平衡生成器与分类器的损失\n",
    "flip_percentage = 0.0    # 标签翻转比例，用于半监督学习时的数据增强\n",
    "mixup_alpha = 0.1        # Mixup的超参数，用于样本混合和数据增强\n",
    "semi_supervised = True    # 半监督学习（若设置为True，则包含未标记样本进行训练）\n",
    "\n",
    "# 构建数据集和数据加载器\n",
    "data_loader = torch.utils.data.DataLoader(\n",
    "    HyperX(img, train_gt if semi_supervised else gt), batch_size=mb_size, shuffle=True)\n",
    "\n",
    "# c_dim = 条件向量的大小，即类别数量\n",
    "c_dim = data_loader.dataset.n_classes\n",
    "\n",
    "print(\"c_dim:\", c_dim)\n",
    "\n",
    "# 忽略类别0（通常为背景或未标记类）\n",
    "class_weights = torch.ones((c_dim))  # 创建一个大小为c_dim的全1的权重张量\n",
    "class_weights[0] = 0.                 # 将类别0的权重设为0，以避免影响训练\n",
    "class_weights = class_weights.cuda()   # 将权重张量移动到GPU（如果使用CUDA）"
   ],
   "outputs": [
    {
     "name": "stdout",
     "output_type": "stream",
     "text": [
      "c_dim: 10\n"
     ]
    }
   ],
   "execution_count": 7
  },
  {
   "cell_type": "code",
   "metadata": {
    "ExecuteTime": {
     "end_time": "2024-11-08T08:16:59.673040Z",
     "start_time": "2024-11-08T08:16:59.613678Z"
    }
   },
   "source": [
    "# 使用He et al. (2015)策略初始化权重\n",
    "def weight_init(m):\n",
    "    # 判断模块类型，如果是线性层或卷积层或转置卷积层，初始化权重\n",
    "    if isinstance(m, (nn.Linear)):\n",
    "        # 对线性层使用 Kaiming 初始化\n",
    "        torch.nn.init.kaiming_normal_(m.weight.data, nonlinearity='linear')\n",
    "        if m.bias is not None:\n",
    "            nn.init.constant_(m.bias.data, 0)  # 初始化偏置为0\n",
    "\n",
    "    elif isinstance(m, (nn.Conv2d, nn.ConvTranspose2d)):\n",
    "        # 对二维卷积层和转置卷积层使用 Kaiming 初始化\n",
    "        torch.nn.init.kaiming_normal_(m.weight.data, nonlinearity='relu')\n",
    "        if m.bias is not None:\n",
    "            nn.init.constant_(m.bias.data, 0)  # 初始化偏置为0\n",
    "\n",
    "    elif isinstance(m, (nn.Conv3d, nn.ConvTranspose3d)):\n",
    "        # 对三维卷积层和转置卷积层使用 Kaiming 初始化\n",
    "        torch.nn.init.kaiming_normal_(m.weight.data, nonlinearity='relu')\n",
    "        if m.bias is not None:\n",
    "            nn.init.constant_(m.bias.data, 0)  # 初始化偏置为0\n",
    "\n",
    "    # 你可以根据需要扩展到其他层类型，例如 BatchNorm、LayerNorm 等\n",
    "    elif isinstance(m, nn.BatchNorm2d):\n",
    "        nn.init.constant_(m.weight.data, 1)  # 权重初始化为1\n",
    "        nn.init.constant_(m.bias.data, 0)    # 偏置初始化为0\n",
    "    elif isinstance(m, nn.BatchNorm1d):\n",
    "        nn.init.constant_(m.weight.data, 1)  # 权重初始化为1\n",
    "        nn.init.constant_(m.bias.data, 0)    # 偏置初始化为0\n",
    "\n",
    "\n",
    "# 在单位超球面上进行球面插值\n",
    "# 参考链接: https://github.com/soumith/dcgan.torch/issues/14\n",
    "def slerp(val, low, high):\n",
    "    # 计算low和high之间的夹角ω\n",
    "    omega = np.arccos(np.clip(np.dot(low/np.linalg.norm(low), high/np.linalg.norm(high)), -1, 1))\n",
    "    so = np.sin(omega)  # 计算sin(ω)\n",
    "\n",
    "    if so == 0:\n",
    "        # 如果so为0，表示两个向量方向相同，返回线性插值\n",
    "        return (1.0-val) * low + val * high  # L'Hôpital法则/LERP\n",
    "\n",
    "    # 进行球面线性插值计算\n",
    "    return np.sin((1.0-val)*omega) / so * low + np.sin(val*omega) / so * high\n",
    "\n",
    "# 线性插值函数\n",
    "def lerp(val, low, high):\n",
    "    return (1.0-val) * low + val * high  # L'Hôpital法则/LERP\n",
    "\n",
    "# 计算改进WGAN训练中的梯度惩罚\n",
    "# 来源: https://github.com/EmilienDupont/wgan-gp\n",
    "# 使用建议的惩罚权重设为10\n",
    "def calc_gradient_penalty(netD, real_data, generated_data, penalty_weight=10):\n",
    "    #netD是一个判别器\n",
    "\n",
    "    batch_size = real_data.size()[0]  # 获取真实数据的批次大小\n",
    "\n",
    "    # alpha取值在0到1之间，用于插值\n",
    "    alpha = torch.rand(batch_size, 1) if real_data.dim() == 2 else torch.rand(batch_size, 1, 1, 1)\n",
    "    #如果 real_data.dim() == 2 返回 [batch_size, 1] ，否则返回 [batch_size, 1, 1, 1]\n",
    "    alpha = alpha.expand_as(real_data)  # 与真实数据形状相同\n",
    "    #用于返回一个形状与另一张量相同但共享同一数据的新的张量\n",
    "    alpha = alpha.cuda()  # 将alpha转移到GPU上\n",
    "\n",
    "    # 进行插值，生成混合样本\n",
    "    interpolated = alpha * real_data + (1 - alpha) * generated_data\n",
    "    interpolated.requires_grad_()  # 需要计算梯度\n",
    "    interpolated = interpolated.cuda()  # 转移到GPU上\n",
    "\n",
    "    # 计算插值样本的概率\n",
    "    prob_interpolated = netD(interpolated)\n",
    "\n",
    "    # 计算插值样本的概率的梯度\n",
    "    gradients = torch.autograd.grad(outputs=prob_interpolated, inputs=interpolated,\n",
    "                                    grad_outputs=torch.ones(prob_interpolated.size()).cuda(),\n",
    "                                    create_graph=True, retain_graph=True)[0]\n",
    "\n",
    "    # 将梯度形状转换为(batch_size, num_features)\n",
    "    gradients = gradients.view(batch_size, -1)\n",
    "\n",
    "    # 计算梯度的范数，防止接近0的情况引发问题，加入微小值epsilon\n",
    "    gradients_norm = torch.sqrt(torch.sum(gradients ** 2, dim=1) + 1e-12)\n",
    "\n",
    "    # 返回梯度惩罚\n",
    "    return penalty_weight * ((gradients_norm - 1) ** 2).mean()\n",
    "\n",
    "# 重置多个网络的梯度\n",
    "def reset_grad(*nets):\n",
    "    for net in nets:\n",
    "        net.zero_grad()  # 清零每个网络的梯度\n",
    "\n",
    "# 绘制样本的均值与标准差\n",
    "def plot_mean_std(samples):\n",
    "    # 计算每个通道的均值和标准差，axis=0 表示对样本维度进行操作\n",
    "    mean_spectrum = np.mean(samples, axis=0)  # shape: (103, 65, 65)\n",
    "    std_spectrum = np.std(samples, axis=0)    # shape: (103, 65, 65)\n",
    "\n",
    "    # 随机选择一个通道\n",
    "    random_channel = np.random.choice(mean_spectrum.shape[0])  # 随机选择一个在[0, 102]范围内的整数\n",
    "\n",
    "    # 创建图形\n",
    "    plt.figure(figsize=(12, 6))\n",
    "\n",
    "    # 绘制均值和标准差曲线\n",
    "    plt.plot(mean_spectrum[random_channel].flatten(), label='Mean (Channel {})'.format(random_channel), alpha=0.7)  # 绘制均值\n",
    "    plt.plot((mean_spectrum[random_channel] - std_spectrum[random_channel]).flatten(), linestyle='dotted', label='Mean - Std (Channel {})'.format(random_channel))  # 绘制均值-标准差\n",
    "    plt.plot((mean_spectrum[random_channel] + std_spectrum[random_channel]).flatten(), linestyle='dotted', label='Mean + Std (Channel {})'.format(random_channel))  # 绘制均值+标准差\n",
    "\n",
    "    plt.title('Channel {}'.format(random_channel))\n",
    "    plt.xlabel('Spatial Location (flattened)')\n",
    "    plt.ylabel('Intensity')\n",
    "    plt.legend()\n",
    "    plt.grid()\n",
    "    plt.show()  # 显示图形\n",
    "\n",
    "def visualize_selected_columns(pred, selected_indices=[55, 41, 12], normalize=True):\n",
    "    \"\"\"\n",
    "    选择指定通道并进行归一化，最终将结果可视化为图像。\n",
    "    \n",
    "    参数:\n",
    "    - pred: 一个形状为(5, 103, 64, 64)的PyTorch张量，生成的高光谱图像。\n",
    "    - selected_indices: 需要选择的通道索引列表，例如 [55, 41, 12]。\n",
    "    - normalize: 布尔值，指示是否进行归一化。\n",
    "    \"\"\"\n",
    "    # 选择指定的通道\n",
    "    selected_channels = pred[:, selected_indices, :, :]  # 选择指定的通道，形状为 (5, 3, 64, 64)\n",
    "\n",
    "    # 将选定的通道转换为 NumPy 数组并进行处理\n",
    "    rgb = selected_channels.detach().cpu().numpy()  # 确保在CPU上并转为NumPy\n",
    "    rgb = np.transpose(rgb, (0, 2, 3, 1))  # 变换维度为 (5, 64, 64, 3)，把通道放到最后\n",
    "\n",
    "    # 可视化每个批次的图像\n",
    "    for i in range(rgb.shape[0]):  # 遍历每个批次\n",
    "        img = rgb[i]  # 取出当前批次的图像\n",
    "\n",
    "        # 进行归一化\n",
    "        if normalize:\n",
    "            img = 255 * (img.astype(np.float32) - img.min()) / (img.max() - img.min())\n",
    "            img = img.astype(np.uint8)\n",
    "\n",
    "        # 可视化\n",
    "        plt.figure(figsize=(6, 6))\n",
    "        plt.imshow(img)  # 直接显示 RGB 图像\n",
    "        plt.axis('off')  # 关闭坐标轴\n",
    "        plt.title(f'Visualized RGB Image from Selected Channels of Batch {i + 1}')\n",
    "        plt.show()\n"
   ],
   "outputs": [],
   "execution_count": 8
  },
  {
   "cell_type": "code",
   "metadata": {
    "ExecuteTime": {
     "end_time": "2024-11-08T08:17:04.225140Z",
     "start_time": "2024-11-08T08:16:59.690993Z"
    }
   },
   "source": [
    "# 实例化生成器、判别器和分类器并移动到GPU\n",
    "G = Generator(z_dim, c_dim, h_dim).cuda()  # 生成器\n",
    "D = Discriminator(X_dim).cuda()  # 判别器\n",
    "C = Classifier(X_dim, c_dim, h_dim).cuda()  # 分类器\n",
    "\n",
    "# 使用RMSProp优化器\n",
    "G_solver = optim.RMSprop(G.parameters(), lr=lr)  # 为生成器设置RMSprop优化器\n",
    "D_solver = optim.RMSprop(D.parameters(), lr=lr)  # 为判别器设置RMSprop优化器\n",
    "C_solver = optim.RMSprop(C.parameters(), lr=lr)  # 为分类器设置RMSprop优化器\n",
    "\n",
    "# 创建保存图片的目录\n",
    "output_dir = os.path.join(current_dir, '111')\n",
    "if not os.path.exists(output_dir):\n",
    "    os.makedirs(output_dir)\n",
    "\n",
    "for _, (X, y), (X_, y_) in zip(range(d_step), data_loader, data_loader):\n",
    "    batch_size = y.size(0)\n",
    "\n",
    "    X, y = X.float().cuda(), y.float().cuda()\n",
    "    X_, y_ = X_.float().cuda(), y_.float().cuda()\n",
    "    print(\"Current Batch Size:\", batch_size)\n",
    "    print(\"X shape:\", X.shape)\n",
    "    print(\"y shape:\", y.shape)\n",
    "\n",
    "    print(\"X_ shape:\", X_.shape)\n",
    "    print(\"y_ shape:\", y_.shape)\n",
    "\n",
    "    print(\"-\" * 50)  # 分隔线，便于视觉分隔不同的迭代输出\n",
    "\n",
    "\n",
    "# 开始训练迭代\n",
    "for it in tqdm(range(100000)):  #requires_grad成员和.parameters()方法是属于nn.Module 的类的\n",
    "    ###########################\n",
    "    # (1) 更新分类器C和判别器D #\n",
    "    ###########################\n",
    "    for p in D.parameters():  # 重置D参数的requires_grad  \n",
    "        p.requires_grad = True  # D的参数需要梯度\n",
    "    for p in C.parameters():\n",
    "        p.requires_grad = True  # C的参数需要梯度\n",
    "\n",
    "    # 每次迭代训练d_step次判别器\n",
    "    for _, (X, y), (X_, y_) in zip(range(d_step), data_loader, data_loader):\n",
    "        # 确保你的 X 和 X_ 是形状为 (batch_size, channels, height, width)  X shape: torch.Size([256, 103, 5, 5])\n",
    "        # 由于X和X_是3D张量，shape 应该是 (batch_size, channels, height, width)  y shape: torch.Size([256, 10])\n",
    "\n",
    "        # 获取批处理大小\n",
    "        batch_size = y.size(0)  # 标签的数量，也就是当前batch的大小\n",
    "\n",
    "        # 采样随机噪声\n",
    "        z = torch.randn(batch_size, z_dim).cuda()  # 随机噪声, z_dim = 30, 移动到GPU\n",
    "\n",
    "        # 将输入数据转为float类型并移动到GPU\n",
    "        X, y = X.float().cuda(), y.float().cuda()\n",
    "        X_, y_ = X_.float().cuda(), y_.float().cuda()  # 处理第二批数据\n",
    "\n",
    "        # Mixup 数据增强\n",
    "        lam = np.random.beta(mixup_alpha, mixup_alpha)  # 从Beta分布中抽样\n",
    "\n",
    "        # 计算 Mixup 样本，确保 X 的shape应为 (batch_size, channels, height, width) 和 X_ 一致\n",
    "        X_mixed = lam * X + (1. - lam) * X_  # 生成混合样本\n",
    "\n",
    "        # 由于 X_mixed 是三维张量，可能需要对其进行 flatten 操作以适应后续模型处理（如果需要）\n",
    "        # 如果后续模型需要展平，可以使用以下代码：\n",
    "        # X_mixed = X_mixed.view(batch_size, -1)  # 将其展平为 (batch_size, channels * height * width)\n",
    "\n",
    "        # 清空判别器的梯度\n",
    "        D.zero_grad()\n",
    "\n",
    "        # 判别器对真实样本的预测\n",
    "        D_real = D(X).mean()  #一个用于计算张量元素平均值的方法  (256, 1)\n",
    "        # 判别器对生成样本的预测\n",
    "        fake_samples = G(z, y)  # 使用生成器生成假样本  z是噪声，y是label\n",
    "        D_fake = D(fake_samples).mean()\n",
    "\n",
    "        # 计算梯度惩罚\n",
    "        gradient_penalty = calc_gradient_penalty(D, X.detach(), fake_samples.detach())\n",
    "\n",
    "        # 计算判别器损失并反向传播\n",
    "        D_loss = D_fake - D_real + gradient_penalty\n",
    "        # WGAN中的损失计算  D_loss 的目标是最大化判别器对真实样本的评分并最小化对生成样本的评分。\n",
    "        flip = np.random.random() < flip_percentage  # 随机决定是否翻转标签\n",
    "        if flip:\n",
    "            # 翻转真实和假样本\n",
    "            gradient_penalty = calc_gradient_penalty(D, fake_samples.detach(), X.detach())\n",
    "            D_loss = D_real - D_fake + gradient_penalty\n",
    "\n",
    "        D_loss.backward()  # 反向传播\n",
    "        D_solver.step()  # 更新判别器参数\n",
    "\n",
    "        ######################\n",
    "        #  更新分类器C网络  #\n",
    "        ######################\n",
    "        C.zero_grad()  # 清空分类器的梯度\n",
    "        # 获取类标签\n",
    "        _, classes = torch.max(y, dim=1)  #y的形状通常为 (batch_size, num_classes)\n",
    "        _, classes_ = torch.max(y_, dim=1)\n",
    "        # 获取分类器的预测\n",
    "        if flip:\n",
    "            fake_samples = G(z, y)  # 生成假样本\n",
    "            pred = C(fake_samples)  # 分类器对假样本的预测\n",
    "            # 计算分类器损失并反向传播\n",
    "            C_loss = F.cross_entropy(pred, classes, weight=class_weights)\n",
    "        else:\n",
    "            pred = F.log_softmax(C(X))  # 对真实样本应用log_softmax\n",
    "            # 计算分类器损失（Mixup损失计算）\n",
    "            C_loss = lam * F.nll_loss(pred, classes) + (1. - lam) * F.nll_loss(pred, classes_)\n",
    "\n",
    "        C_loss.backward()  # 反向传播\n",
    "        C_solver.step()  # 更新分类器参数\n",
    "\n",
    "\n",
    "    ############################\n",
    "    # (2) 更新生成器G网络     #\n",
    "    ###########################\n",
    "    for p in D.parameters():\n",
    "        p.requires_grad = False  # 禁用判别器的参数计算，以避免梯度回传\n",
    "    for p in C.parameters():\n",
    "        p.requires_grad = False  # 禁用分类器的参数计算\n",
    "\n",
    "    reset_grad(C, G, D)  # 重置梯度\n",
    "\n",
    "    # 采样随机噪声\n",
    "    z = torch.randn(y.size(0), z_dim).squeeze()  # 随机噪声\n",
    "    z = z.cuda()  # 移动到GPU\n",
    "    # 生成假样本\n",
    "    G_sample = G(z, y)\n",
    "    D_fake = D(G_sample)  # 判别器对生成样本的预测\n",
    "    pred = C(G_sample)  # 分类器对生成样本的预测\n",
    "    C_loss = F.cross_entropy(pred, classes, weight=class_weights)  # 计算分类器损失\n",
    "    # 计算生成器损失以愚弄判别器 (WGAN)\n",
    "    G_loss = -torch.mean(D_fake)  # WGAN生成器损失\n",
    "    # 包括辅助分类器损失 (AC-GAN)\n",
    "    loss = G_loss + c_weight * C_loss  # 总损失\n",
    "    # 反向传播\n",
    "    loss.backward()\n",
    "    G_solver.step()  # 更新生成器参数\n",
    "\n",
    "    # 每隔一定迭代次数打印和可视化结果\n",
    "    if it % 1000 == 0:\n",
    "        with torch.no_grad():\n",
    "            # 打印当前损失\n",
    "            print('Iter-{}; D_loss: {}; G_loss: {}; C_loss: {}'.format(it,\n",
    "                                                                       D_loss.data.cpu().numpy(), G_loss.data.cpu().numpy(),\n",
    "                                                                       C_loss.data.cpu().numpy()))\n",
    "            # 采样生成图像\n",
    "            z = torch.randn(mb_size, z_dim).squeeze().cuda()  # 随机噪声  生成的张量会有 mb_size 行和 z_dim 列，其中的每一个元素来自正态分布的随机数\n",
    "            c = np.zeros(shape=[mb_size, c_dim], dtype='float32')  # 创建类标签  mb_size = 256  z_dim = 30  c_dim= 数组的形状为 (mb_size, c_dim)\n",
    "            idx = np.random.randint(1, data_loader.dataset.n_classes)  # 随机选择一个类\n",
    "            c[:, idx] = 1.  # 设置为对应类\n",
    "            c = torch.from_numpy(c).squeeze().cuda()  # 转为torch tensor并移动到GPU\n",
    "\n",
    "            pred = G(z, c)  # 生成器生成的样本\n",
    "            samples = pred.data.cpu().numpy()[:16]  # 生成样本\n",
    "\n",
    "            visualize_selected_columns(pred)\n",
    "\n",
    "            plot_mean_std(samples)  # 绘制生成样本\n",
    "            plt.title(\"Samples for class {}\".format(idx))  # 显示标题\n",
    "            plt.show()  # 展示图像\n"
   ],
   "outputs": [
    {
     "ename": "RuntimeError",
     "evalue": "stack expects each tensor to be equal size, but got [103, 151, 81] at entry 0 and [103, 151, 114] at entry 1",
     "output_type": "error",
     "traceback": [
      "\u001B[1;31m---------------------------------------------------------------------------\u001B[0m",
      "\u001B[1;31mRuntimeError\u001B[0m                              Traceback (most recent call last)",
      "Cell \u001B[1;32mIn[9], line 16\u001B[0m\n\u001B[0;32m     13\u001B[0m \u001B[38;5;28;01mif\u001B[39;00m \u001B[38;5;129;01mnot\u001B[39;00m os\u001B[38;5;241m.\u001B[39mpath\u001B[38;5;241m.\u001B[39mexists(output_dir):\n\u001B[0;32m     14\u001B[0m     os\u001B[38;5;241m.\u001B[39mmakedirs(output_dir)\n\u001B[1;32m---> 16\u001B[0m \u001B[38;5;28;01mfor\u001B[39;00m _, (X, y), (X_, y_) \u001B[38;5;129;01min\u001B[39;00m \u001B[38;5;28mzip\u001B[39m(\u001B[38;5;28mrange\u001B[39m(d_step), data_loader, data_loader):\n\u001B[0;32m     17\u001B[0m     batch_size \u001B[38;5;241m=\u001B[39m y\u001B[38;5;241m.\u001B[39msize(\u001B[38;5;241m0\u001B[39m)\n\u001B[0;32m     19\u001B[0m     X, y \u001B[38;5;241m=\u001B[39m X\u001B[38;5;241m.\u001B[39mfloat()\u001B[38;5;241m.\u001B[39mcuda(), y\u001B[38;5;241m.\u001B[39mfloat()\u001B[38;5;241m.\u001B[39mcuda()\n",
      "File \u001B[1;32m~\\AppData\\Local\\Programs\\Python\\Python39\\lib\\site-packages\\torch\\utils\\data\\dataloader.py:530\u001B[0m, in \u001B[0;36m_BaseDataLoaderIter.__next__\u001B[1;34m(self)\u001B[0m\n\u001B[0;32m    528\u001B[0m \u001B[38;5;28;01mif\u001B[39;00m \u001B[38;5;28mself\u001B[39m\u001B[38;5;241m.\u001B[39m_sampler_iter \u001B[38;5;129;01mis\u001B[39;00m \u001B[38;5;28;01mNone\u001B[39;00m:\n\u001B[0;32m    529\u001B[0m     \u001B[38;5;28mself\u001B[39m\u001B[38;5;241m.\u001B[39m_reset()\n\u001B[1;32m--> 530\u001B[0m data \u001B[38;5;241m=\u001B[39m \u001B[38;5;28;43mself\u001B[39;49m\u001B[38;5;241;43m.\u001B[39;49m\u001B[43m_next_data\u001B[49m\u001B[43m(\u001B[49m\u001B[43m)\u001B[49m\n\u001B[0;32m    531\u001B[0m \u001B[38;5;28mself\u001B[39m\u001B[38;5;241m.\u001B[39m_num_yielded \u001B[38;5;241m+\u001B[39m\u001B[38;5;241m=\u001B[39m \u001B[38;5;241m1\u001B[39m\n\u001B[0;32m    532\u001B[0m \u001B[38;5;28;01mif\u001B[39;00m \u001B[38;5;28mself\u001B[39m\u001B[38;5;241m.\u001B[39m_dataset_kind \u001B[38;5;241m==\u001B[39m _DatasetKind\u001B[38;5;241m.\u001B[39mIterable \u001B[38;5;129;01mand\u001B[39;00m \\\n\u001B[0;32m    533\u001B[0m         \u001B[38;5;28mself\u001B[39m\u001B[38;5;241m.\u001B[39m_IterableDataset_len_called \u001B[38;5;129;01mis\u001B[39;00m \u001B[38;5;129;01mnot\u001B[39;00m \u001B[38;5;28;01mNone\u001B[39;00m \u001B[38;5;129;01mand\u001B[39;00m \\\n\u001B[0;32m    534\u001B[0m         \u001B[38;5;28mself\u001B[39m\u001B[38;5;241m.\u001B[39m_num_yielded \u001B[38;5;241m>\u001B[39m \u001B[38;5;28mself\u001B[39m\u001B[38;5;241m.\u001B[39m_IterableDataset_len_called:\n",
      "File \u001B[1;32m~\\AppData\\Local\\Programs\\Python\\Python39\\lib\\site-packages\\torch\\utils\\data\\dataloader.py:570\u001B[0m, in \u001B[0;36m_SingleProcessDataLoaderIter._next_data\u001B[1;34m(self)\u001B[0m\n\u001B[0;32m    568\u001B[0m \u001B[38;5;28;01mdef\u001B[39;00m \u001B[38;5;21m_next_data\u001B[39m(\u001B[38;5;28mself\u001B[39m):\n\u001B[0;32m    569\u001B[0m     index \u001B[38;5;241m=\u001B[39m \u001B[38;5;28mself\u001B[39m\u001B[38;5;241m.\u001B[39m_next_index()  \u001B[38;5;66;03m# may raise StopIteration\u001B[39;00m\n\u001B[1;32m--> 570\u001B[0m     data \u001B[38;5;241m=\u001B[39m \u001B[38;5;28;43mself\u001B[39;49m\u001B[38;5;241;43m.\u001B[39;49m\u001B[43m_dataset_fetcher\u001B[49m\u001B[38;5;241;43m.\u001B[39;49m\u001B[43mfetch\u001B[49m\u001B[43m(\u001B[49m\u001B[43mindex\u001B[49m\u001B[43m)\u001B[49m  \u001B[38;5;66;03m# may raise StopIteration\u001B[39;00m\n\u001B[0;32m    571\u001B[0m     \u001B[38;5;28;01mif\u001B[39;00m \u001B[38;5;28mself\u001B[39m\u001B[38;5;241m.\u001B[39m_pin_memory:\n\u001B[0;32m    572\u001B[0m         data \u001B[38;5;241m=\u001B[39m _utils\u001B[38;5;241m.\u001B[39mpin_memory\u001B[38;5;241m.\u001B[39mpin_memory(data)\n",
      "File \u001B[1;32m~\\AppData\\Local\\Programs\\Python\\Python39\\lib\\site-packages\\torch\\utils\\data\\_utils\\fetch.py:52\u001B[0m, in \u001B[0;36m_MapDatasetFetcher.fetch\u001B[1;34m(self, possibly_batched_index)\u001B[0m\n\u001B[0;32m     50\u001B[0m \u001B[38;5;28;01melse\u001B[39;00m:\n\u001B[0;32m     51\u001B[0m     data \u001B[38;5;241m=\u001B[39m \u001B[38;5;28mself\u001B[39m\u001B[38;5;241m.\u001B[39mdataset[possibly_batched_index]\n\u001B[1;32m---> 52\u001B[0m \u001B[38;5;28;01mreturn\u001B[39;00m \u001B[38;5;28;43mself\u001B[39;49m\u001B[38;5;241;43m.\u001B[39;49m\u001B[43mcollate_fn\u001B[49m\u001B[43m(\u001B[49m\u001B[43mdata\u001B[49m\u001B[43m)\u001B[49m\n",
      "File \u001B[1;32m~\\AppData\\Local\\Programs\\Python\\Python39\\lib\\site-packages\\torch\\utils\\data\\_utils\\collate.py:172\u001B[0m, in \u001B[0;36mdefault_collate\u001B[1;34m(batch)\u001B[0m\n\u001B[0;32m    169\u001B[0m transposed \u001B[38;5;241m=\u001B[39m \u001B[38;5;28mlist\u001B[39m(\u001B[38;5;28mzip\u001B[39m(\u001B[38;5;241m*\u001B[39mbatch))  \u001B[38;5;66;03m# It may be accessed twice, so we use a list.\u001B[39;00m\n\u001B[0;32m    171\u001B[0m \u001B[38;5;28;01mif\u001B[39;00m \u001B[38;5;28misinstance\u001B[39m(elem, \u001B[38;5;28mtuple\u001B[39m):\n\u001B[1;32m--> 172\u001B[0m     \u001B[38;5;28;01mreturn\u001B[39;00m [default_collate(samples) \u001B[38;5;28;01mfor\u001B[39;00m samples \u001B[38;5;129;01min\u001B[39;00m transposed]  \u001B[38;5;66;03m# Backwards compatibility.\u001B[39;00m\n\u001B[0;32m    173\u001B[0m \u001B[38;5;28;01melse\u001B[39;00m:\n\u001B[0;32m    174\u001B[0m     \u001B[38;5;28;01mtry\u001B[39;00m:\n",
      "File \u001B[1;32m~\\AppData\\Local\\Programs\\Python\\Python39\\lib\\site-packages\\torch\\utils\\data\\_utils\\collate.py:172\u001B[0m, in \u001B[0;36m<listcomp>\u001B[1;34m(.0)\u001B[0m\n\u001B[0;32m    169\u001B[0m transposed \u001B[38;5;241m=\u001B[39m \u001B[38;5;28mlist\u001B[39m(\u001B[38;5;28mzip\u001B[39m(\u001B[38;5;241m*\u001B[39mbatch))  \u001B[38;5;66;03m# It may be accessed twice, so we use a list.\u001B[39;00m\n\u001B[0;32m    171\u001B[0m \u001B[38;5;28;01mif\u001B[39;00m \u001B[38;5;28misinstance\u001B[39m(elem, \u001B[38;5;28mtuple\u001B[39m):\n\u001B[1;32m--> 172\u001B[0m     \u001B[38;5;28;01mreturn\u001B[39;00m [\u001B[43mdefault_collate\u001B[49m\u001B[43m(\u001B[49m\u001B[43msamples\u001B[49m\u001B[43m)\u001B[49m \u001B[38;5;28;01mfor\u001B[39;00m samples \u001B[38;5;129;01min\u001B[39;00m transposed]  \u001B[38;5;66;03m# Backwards compatibility.\u001B[39;00m\n\u001B[0;32m    173\u001B[0m \u001B[38;5;28;01melse\u001B[39;00m:\n\u001B[0;32m    174\u001B[0m     \u001B[38;5;28;01mtry\u001B[39;00m:\n",
      "File \u001B[1;32m~\\AppData\\Local\\Programs\\Python\\Python39\\lib\\site-packages\\torch\\utils\\data\\_utils\\collate.py:138\u001B[0m, in \u001B[0;36mdefault_collate\u001B[1;34m(batch)\u001B[0m\n\u001B[0;32m    136\u001B[0m         storage \u001B[38;5;241m=\u001B[39m elem\u001B[38;5;241m.\u001B[39mstorage()\u001B[38;5;241m.\u001B[39m_new_shared(numel)\n\u001B[0;32m    137\u001B[0m         out \u001B[38;5;241m=\u001B[39m elem\u001B[38;5;241m.\u001B[39mnew(storage)\u001B[38;5;241m.\u001B[39mresize_(\u001B[38;5;28mlen\u001B[39m(batch), \u001B[38;5;241m*\u001B[39m\u001B[38;5;28mlist\u001B[39m(elem\u001B[38;5;241m.\u001B[39msize()))\n\u001B[1;32m--> 138\u001B[0m     \u001B[38;5;28;01mreturn\u001B[39;00m \u001B[43mtorch\u001B[49m\u001B[38;5;241;43m.\u001B[39;49m\u001B[43mstack\u001B[49m\u001B[43m(\u001B[49m\u001B[43mbatch\u001B[49m\u001B[43m,\u001B[49m\u001B[43m \u001B[49m\u001B[38;5;241;43m0\u001B[39;49m\u001B[43m,\u001B[49m\u001B[43m \u001B[49m\u001B[43mout\u001B[49m\u001B[38;5;241;43m=\u001B[39;49m\u001B[43mout\u001B[49m\u001B[43m)\u001B[49m\n\u001B[0;32m    139\u001B[0m \u001B[38;5;28;01melif\u001B[39;00m elem_type\u001B[38;5;241m.\u001B[39m\u001B[38;5;18m__module__\u001B[39m \u001B[38;5;241m==\u001B[39m \u001B[38;5;124m'\u001B[39m\u001B[38;5;124mnumpy\u001B[39m\u001B[38;5;124m'\u001B[39m \u001B[38;5;129;01mand\u001B[39;00m elem_type\u001B[38;5;241m.\u001B[39m\u001B[38;5;18m__name__\u001B[39m \u001B[38;5;241m!=\u001B[39m \u001B[38;5;124m'\u001B[39m\u001B[38;5;124mstr_\u001B[39m\u001B[38;5;124m'\u001B[39m \\\n\u001B[0;32m    140\u001B[0m         \u001B[38;5;129;01mand\u001B[39;00m elem_type\u001B[38;5;241m.\u001B[39m\u001B[38;5;18m__name__\u001B[39m \u001B[38;5;241m!=\u001B[39m \u001B[38;5;124m'\u001B[39m\u001B[38;5;124mstring_\u001B[39m\u001B[38;5;124m'\u001B[39m:\n\u001B[0;32m    141\u001B[0m     \u001B[38;5;28;01mif\u001B[39;00m elem_type\u001B[38;5;241m.\u001B[39m\u001B[38;5;18m__name__\u001B[39m \u001B[38;5;241m==\u001B[39m \u001B[38;5;124m'\u001B[39m\u001B[38;5;124mndarray\u001B[39m\u001B[38;5;124m'\u001B[39m \u001B[38;5;129;01mor\u001B[39;00m elem_type\u001B[38;5;241m.\u001B[39m\u001B[38;5;18m__name__\u001B[39m \u001B[38;5;241m==\u001B[39m \u001B[38;5;124m'\u001B[39m\u001B[38;5;124mmemmap\u001B[39m\u001B[38;5;124m'\u001B[39m:\n\u001B[0;32m    142\u001B[0m         \u001B[38;5;66;03m# array of string classes and object\u001B[39;00m\n",
      "\u001B[1;31mRuntimeError\u001B[0m: stack expects each tensor to be equal size, but got [103, 151, 81] at entry 0 and [103, 151, 114] at entry 1"
     ]
    }
   ],
   "execution_count": 9
  },
  {
   "cell_type": "markdown",
   "metadata": {
    "ExecuteTime": {
     "end_time": "2018-05-30T12:44:20.311836Z",
     "start_time": "2018-05-30T12:44:20.306598Z"
    }
   },
   "source": [
    "## Data generation"
   ]
  },
  {
   "cell_type": "markdown",
   "metadata": {},
   "source": [
    "Now that the generator has been trained, we can generate some fake spectra and see how they fare visually against the real ones."
   ]
  },
  {
   "cell_type": "code",
   "metadata": {
    "scrolled": false,
    "ExecuteTime": {
     "end_time": "2024-11-08T08:17:04.320052300Z",
     "start_time": "2024-11-08T04:03:48.621858Z"
    }
   },
   "source": [
    "'''for c in np.unique(gt):\n",
    "    # 0 is the \"undefined\" class\n",
    "    if c == 0:\n",
    "        continue\n",
    "    \n",
    "    # Get the mean spectrum +- std for this class\n",
    "    spectras = img[gt == c, :]\n",
    "    plot_mean_std(spectras)\n",
    "    plt.title(\"Real {}\".format(c))\n",
    "    plt.show()\n",
    "    \n",
    "    # Get as many fake spectras as real ones\n",
    "    synthetic_spectras = []\n",
    "    with torch.no_grad():\n",
    "        while len(synthetic_spectras) < len(spectras):\n",
    "            z = torch.randn(mb_size, z_dim).cuda()\n",
    "            y = torch.from_numpy(np.eye(data_loader.dataset.n_classes)[c]).float()\n",
    "            y = y.unsqueeze(0).repeat(mb_size, 1).cuda()\n",
    "            G_sample = G(z, y)\n",
    "            _, classes = torch.max(y, 1)\n",
    "            _, pred = torch.max(C(G_sample), 1)\n",
    "            synthetic_spectras += list(G_sample.cpu().data.numpy())\n",
    "    plt.show()\n",
    "    plot_mean_std(synthetic_spectras)\n",
    "    plt.title(\"Synthetic {}\".format(c))\n",
    "    plt.show()\n",
    "'''"
   ],
   "outputs": [
    {
     "data": {
      "text/plain": [
       "'for c in np.unique(gt):\\n    # 0 is the \"undefined\" class\\n    if c == 0:\\n        continue\\n    \\n    # Get the mean spectrum +- std for this class\\n    spectras = img[gt == c, :]\\n    plot_mean_std(spectras)\\n    plt.title(\"Real {}\".format(c))\\n    plt.show()\\n    \\n    # Get as many fake spectras as real ones\\n    synthetic_spectras = []\\n    with torch.no_grad():\\n        while len(synthetic_spectras) < len(spectras):\\n            z = torch.randn(mb_size, z_dim).cuda()\\n            y = torch.from_numpy(np.eye(data_loader.dataset.n_classes)[c]).float()\\n            y = y.unsqueeze(0).repeat(mb_size, 1).cuda()\\n            G_sample = G(z, y)\\n            _, classes = torch.max(y, 1)\\n            _, pred = torch.max(C(G_sample), 1)\\n            synthetic_spectras += list(G_sample.cpu().data.numpy())\\n    plt.show()\\n    plot_mean_std(synthetic_spectras)\\n    plt.title(\"Synthetic {}\".format(c))\\n    plt.show()\\n'"
      ]
     },
     "execution_count": 13,
     "metadata": {},
     "output_type": "execute_result"
    }
   ],
   "execution_count": 13
  },
  {
   "cell_type": "markdown",
   "metadata": {},
   "source": [
    "## Evaluation\n",
    "\n",
    "Finally, we want to compare the two distributions: is the fake distribution truely similar to the real distribution? To this end, we first can train a linear SVM on the real data and then apply it on the fake data. The frontiers of the real data should be respected by the fake data if the learning was successful."
   ]
  },
  {
   "cell_type": "code",
   "metadata": {
    "ExecuteTime": {
     "end_time": "2024-11-08T08:17:04.352052200Z",
     "start_time": "2024-11-08T04:03:48.694444Z"
    }
   },
   "source": [
    "'''\n",
    "import sklearn.svm\n",
    "import sklearn.model_selection\n",
    "import sklearn.preprocessing\n",
    "import sklearn.pipeline\n",
    "import sklearn.mixture\n",
    "'''"
   ],
   "outputs": [
    {
     "data": {
      "text/plain": [
       "'\\nimport sklearn.svm\\nimport sklearn.model_selection\\nimport sklearn.preprocessing\\nimport sklearn.pipeline\\nimport sklearn.mixture\\n'"
      ]
     },
     "execution_count": 14,
     "metadata": {},
     "output_type": "execute_result"
    }
   ],
   "execution_count": 14
  },
  {
   "cell_type": "code",
   "metadata": {
    "ExecuteTime": {
     "end_time": "2024-11-08T08:17:04.353052100Z",
     "start_time": "2024-11-08T04:03:48.772211Z"
    }
   },
   "source": [
    "'''\n",
    "img = (img - img.min()) / (img.max() - img.min())\n",
    "X_train = np.array([img[x,y] for x,y in zip(*np.nonzero(train_gt))])\n",
    "y_train = np.array([gt[x,y] for x,y in zip(*np.nonzero(train_gt))])\n",
    "X_test = np.array([img[x,y] for x,y in zip(*np.nonzero(test_gt))])\n",
    "y_test = np.array([test_gt[x,y] for x,y in zip(*np.nonzero(test_gt))])\n",
    "'''"
   ],
   "outputs": [
    {
     "data": {
      "text/plain": [
       "'\\nimg = (img - img.min()) / (img.max() - img.min())\\nX_train = np.array([img[x,y] for x,y in zip(*np.nonzero(train_gt))])\\ny_train = np.array([gt[x,y] for x,y in zip(*np.nonzero(train_gt))])\\nX_test = np.array([img[x,y] for x,y in zip(*np.nonzero(test_gt))])\\ny_test = np.array([test_gt[x,y] for x,y in zip(*np.nonzero(test_gt))])\\n'"
      ]
     },
     "execution_count": 15,
     "metadata": {},
     "output_type": "execute_result"
    }
   ],
   "execution_count": 15
  },
  {
   "cell_type": "code",
   "metadata": {
    "ExecuteTime": {
     "end_time": "2024-11-08T08:17:04.353052100Z",
     "start_time": "2024-11-08T04:03:48.896859Z"
    }
   },
   "source": [
    "'''\n",
    "gmms = [sklearn.mixture.GaussianMixture(n_components=20) for _ in range(c_dim)]\n",
    "for y in np.unique(y_train):\n",
    "    gmms[y].fit(X_train[y_train == y])\n",
    "'''"
   ],
   "outputs": [
    {
     "data": {
      "text/plain": [
       "'\\ngmms = [sklearn.mixture.GaussianMixture(n_components=20) for _ in range(c_dim)]\\nfor y in np.unique(y_train):\\n    gmms[y].fit(X_train[y_train == y])\\n'"
      ]
     },
     "execution_count": 16,
     "metadata": {},
     "output_type": "execute_result"
    }
   ],
   "execution_count": 16
  },
  {
   "cell_type": "markdown",
   "metadata": {},
   "source": [
    "We can uncomment this code to use Gaussian Mixture Models instead of GANs."
   ]
  },
  {
   "cell_type": "code",
   "metadata": {
    "ExecuteTime": {
     "end_time": "2024-11-08T08:17:04.353052100Z",
     "start_time": "2024-11-08T04:03:48.931772Z"
    }
   },
   "source": [
    "'''\n",
    "def gmm_create_fake_dataset(gmms, y):\n",
    "    fake_X = []\n",
    "    y_fake = []\n",
    "    for y in np.unique(y):\n",
    "        n_samples = np.count_nonzero(y_test == y)\n",
    "        samples = gmms[y].sample(n_samples)[0]\n",
    "        fake_X.append(samples)\n",
    "        y_fake += [y] * n_samples\n",
    "    fake_X = np.concatenate(fake_X)\n",
    "    y_fake = np.array(y_fake)\n",
    "    return fake_X, y_fake\n",
    "\n",
    "#fake_X_train, fake_y_train = gmm_create_fake_dataset(gmms, y_train)\n",
    "#fake_X_test, fake_y_test = gmm_create_fake_dataset(gmms, y_test)\n",
    "'''"
   ],
   "outputs": [
    {
     "data": {
      "text/plain": [
       "'\\ndef gmm_create_fake_dataset(gmms, y):\\n    fake_X = []\\n    y_fake = []\\n    for y in np.unique(y):\\n        n_samples = np.count_nonzero(y_test == y)\\n        samples = gmms[y].sample(n_samples)[0]\\n        fake_X.append(samples)\\n        y_fake += [y] * n_samples\\n    fake_X = np.concatenate(fake_X)\\n    y_fake = np.array(y_fake)\\n    return fake_X, y_fake\\n\\n#fake_X_train, fake_y_train = gmm_create_fake_dataset(gmms, y_train)\\n#fake_X_test, fake_y_test = gmm_create_fake_dataset(gmms, y_test)\\n'"
      ]
     },
     "execution_count": 17,
     "metadata": {},
     "output_type": "execute_result"
    }
   ],
   "execution_count": 17
  },
  {
   "cell_type": "markdown",
   "metadata": {
    "ExecuteTime": {
     "end_time": "2018-05-30T12:46:44.504434Z",
     "start_time": "2018-05-30T12:46:44.498896Z"
    }
   },
   "source": [
    "### SVM on real data\n",
    "\n",
    "Let's train a linear SVM on real data and see how it performs."
   ]
  },
  {
   "cell_type": "code",
   "metadata": {
    "ExecuteTime": {
     "end_time": "2024-11-08T08:17:04.353052100Z",
     "start_time": "2024-11-08T04:03:49.005458Z"
    }
   },
   "source": [
    "'''\n",
    "scaler = sklearn.preprocessing.StandardScaler()\n",
    "svm = sklearn.svm.SVC()\n",
    "#estimator = sklearn.pipeline.Pipeline(steps=[('scaler', scaler), ('svm', svm)])\n",
    "estimator = sklearn.pipeline.Pipeline(steps=[('svm', svm)])\n",
    "#tuned_parameters = {'svm__C': [0.1, 1, 10, 100, 1000], 'svm__kernel': ['linear']}\n",
    "tuned_parameters = {'svm__C': [1000], 'svm__kernel': ['linear']}\n",
    "clf = sklearn.model_selection.GridSearchCV(estimator, tuned_parameters, cv=5, n_jobs=4)\n",
    "clf.fit(X_train, y_train)\n",
    "score = clf.score(X_test, y_test)\n",
    "best_params = clf.best_params_\n",
    "print(\"The best SVM was obtained using {} and performed at {:.2f} accuracy.\".format(best_params, 100 * score))\n",
    "'''"
   ],
   "outputs": [
    {
     "data": {
      "text/plain": [
       "'\\nscaler = sklearn.preprocessing.StandardScaler()\\nsvm = sklearn.svm.SVC()\\n#estimator = sklearn.pipeline.Pipeline(steps=[(\\'scaler\\', scaler), (\\'svm\\', svm)])\\nestimator = sklearn.pipeline.Pipeline(steps=[(\\'svm\\', svm)])\\n#tuned_parameters = {\\'svm__C\\': [0.1, 1, 10, 100, 1000], \\'svm__kernel\\': [\\'linear\\']}\\ntuned_parameters = {\\'svm__C\\': [1000], \\'svm__kernel\\': [\\'linear\\']}\\nclf = sklearn.model_selection.GridSearchCV(estimator, tuned_parameters, cv=5, n_jobs=4)\\nclf.fit(X_train, y_train)\\nscore = clf.score(X_test, y_test)\\nbest_params = clf.best_params_\\nprint(\"The best SVM was obtained using {} and performed at {:.2f} accuracy.\".format(best_params, 100 * score))\\n'"
      ]
     },
     "execution_count": 18,
     "metadata": {},
     "output_type": "execute_result"
    }
   ],
   "execution_count": 18
  },
  {
   "cell_type": "code",
   "metadata": {
    "ExecuteTime": {
     "end_time": "2024-11-08T08:17:04.353052100Z",
     "start_time": "2024-11-08T04:03:49.083703Z"
    }
   },
   "source": [
    "'''\n",
    "y_pred = clf.predict(X_test)\n",
    "from sklearn.metrics import classification_report\n",
    "print(classification_report(y_test, y_pred))\n",
    "'''"
   ],
   "outputs": [
    {
     "data": {
      "text/plain": [
       "'\\ny_pred = clf.predict(X_test)\\nfrom sklearn.metrics import classification_report\\nprint(classification_report(y_test, y_pred))\\n'"
      ]
     },
     "execution_count": 19,
     "metadata": {},
     "output_type": "execute_result"
    }
   ],
   "execution_count": 19
  },
  {
   "cell_type": "markdown",
   "metadata": {},
   "source": [
    "### SVM on fake data\n",
    "\n",
    "We now generate some fake data (in the same quantities as the real data) and apply the trained SVM on it."
   ]
  },
  {
   "cell_type": "code",
   "metadata": {
    "ExecuteTime": {
     "end_time": "2024-11-08T08:17:04.354052Z",
     "start_time": "2024-11-08T04:03:49.160409Z"
    }
   },
   "source": [
    "'''\n",
    "def gan_create_fake_dataset(labels):\n",
    "    with torch.no_grad():\n",
    "        spectras = []\n",
    "        for l in np.array_split(labels, len(labels) // mb_size):\n",
    "            z = torch.randn(len(l), z_dim).cuda()\n",
    "            y = np.zeros((len(l), data_loader.dataset.n_classes))\n",
    "            for i, label in enumerate(l):\n",
    "                y[i] = np.eye(data_loader.dataset.n_classes)[label]\n",
    "            y = torch.from_numpy(y).float()\n",
    "            eps = torch.randn(y.size())/10\n",
    "            #y += eps\n",
    "            y = y.cuda()\n",
    "            G_sample = G(z, y)\n",
    "            spectras += list(G_sample.cpu().data.numpy())\n",
    "        return np.array(spectras), np.array(labels)\n",
    "'''"
   ],
   "outputs": [
    {
     "data": {
      "text/plain": [
       "'\\ndef gan_create_fake_dataset(labels):\\n    with torch.no_grad():\\n        spectras = []\\n        for l in np.array_split(labels, len(labels) // mb_size):\\n            z = torch.randn(len(l), z_dim).cuda()\\n            y = np.zeros((len(l), data_loader.dataset.n_classes))\\n            for i, label in enumerate(l):\\n                y[i] = np.eye(data_loader.dataset.n_classes)[label]\\n            y = torch.from_numpy(y).float()\\n            eps = torch.randn(y.size())/10\\n            #y += eps\\n            y = y.cuda()\\n            G_sample = G(z, y)\\n            spectras += list(G_sample.cpu().data.numpy())\\n        return np.array(spectras), np.array(labels)\\n'"
      ]
     },
     "execution_count": 20,
     "metadata": {},
     "output_type": "execute_result"
    }
   ],
   "execution_count": 20
  },
  {
   "cell_type": "code",
   "metadata": {
    "scrolled": true,
    "ExecuteTime": {
     "end_time": "2024-11-08T08:17:04.354052Z",
     "start_time": "2024-11-08T04:03:49.221703Z"
    }
   },
   "source": [
    "'''\n",
    "fake_X_train, fake_y_train = gan_create_fake_dataset(y_train)\n",
    "fake_X_test, fake_y_test = gan_create_fake_dataset(y_test)\n",
    "'''"
   ],
   "outputs": [
    {
     "data": {
      "text/plain": [
       "'\\nfake_X_train, fake_y_train = gan_create_fake_dataset(y_train)\\nfake_X_test, fake_y_test = gan_create_fake_dataset(y_test)\\n'"
      ]
     },
     "execution_count": 21,
     "metadata": {},
     "output_type": "execute_result"
    }
   ],
   "execution_count": 21
  },
  {
   "cell_type": "markdown",
   "metadata": {},
   "source": [
    "The true SVM performs better on fake data. Fake data is easier to separate, which means that it does not capture well boundaries between classes."
   ]
  },
  {
   "cell_type": "code",
   "metadata": {
    "ExecuteTime": {
     "end_time": "2024-11-08T08:17:04.354052Z",
     "start_time": "2024-11-08T04:03:49.299060Z"
    }
   },
   "source": "#clf.score(fake_X_test, fake_y_test)",
   "outputs": [],
   "execution_count": 22
  },
  {
   "cell_type": "code",
   "metadata": {
    "ExecuteTime": {
     "end_time": "2024-11-08T08:17:04.354052Z",
     "start_time": "2024-11-08T04:03:49.376369Z"
    }
   },
   "source": [
    "'''\n",
    "y_fake_pred = clf.predict(fake_X_test)\n",
    "from sklearn.metrics import classification_report\n",
    "print(classification_report(fake_y_test, y_fake_pred))\n",
    "'''"
   ],
   "outputs": [
    {
     "data": {
      "text/plain": [
       "'\\ny_fake_pred = clf.predict(fake_X_test)\\nfrom sklearn.metrics import classification_report\\nprint(classification_report(fake_y_test, y_fake_pred))\\n'"
      ]
     },
     "execution_count": 23,
     "metadata": {},
     "output_type": "execute_result"
    }
   ],
   "execution_count": 23
  },
  {
   "cell_type": "markdown",
   "metadata": {},
   "source": [
    "We can also train a \"fake\" SVM on fake data. It separates the fake data nearly perfectly. However, it also neatly separates the true data. It is not as good as the true SVM, but still relatively good for synthetic data."
   ]
  },
  {
   "cell_type": "code",
   "metadata": {
    "ExecuteTime": {
     "end_time": "2024-11-08T08:17:04.354052Z",
     "start_time": "2024-11-08T04:03:49.453602Z"
    }
   },
   "source": [
    "'''\n",
    "svm_fake = sklearn.svm.SVC()\n",
    "clf_fake = sklearn.pipeline.Pipeline(steps=[('svm', svm_fake)])\n",
    "clf_fake.set_params(**clf.best_params_)\n",
    "clf_fake.fit(np.concatenate([fake_X_train]), np.concatenate([fake_y_train]))\n",
    "'''"
   ],
   "outputs": [
    {
     "data": {
      "text/plain": [
       "\"\\nsvm_fake = sklearn.svm.SVC()\\nclf_fake = sklearn.pipeline.Pipeline(steps=[('svm', svm_fake)])\\nclf_fake.set_params(**clf.best_params_)\\nclf_fake.fit(np.concatenate([fake_X_train]), np.concatenate([fake_y_train]))\\n\""
      ]
     },
     "execution_count": 24,
     "metadata": {},
     "output_type": "execute_result"
    }
   ],
   "execution_count": 24
  },
  {
   "cell_type": "code",
   "metadata": {
    "ExecuteTime": {
     "end_time": "2024-11-08T08:17:04.354052Z",
     "start_time": "2024-11-08T04:03:49.530676Z"
    }
   },
   "source": "#clf_fake.score(fake_X_test, fake_y_test)",
   "outputs": [],
   "execution_count": 25
  },
  {
   "cell_type": "code",
   "metadata": {
    "ExecuteTime": {
     "end_time": "2024-11-08T08:17:04.355052Z",
     "start_time": "2024-11-08T04:03:49.607373Z"
    }
   },
   "source": "#clf_fake.score(X_test, y_test)",
   "outputs": [],
   "execution_count": 26
  },
  {
   "cell_type": "markdown",
   "metadata": {},
   "source": [
    "## Data augmentation"
   ]
  },
  {
   "cell_type": "markdown",
   "metadata": {},
   "source": [
    "We can train on both real and fake data to use the latter as augmented data. However, as we saw the fake data does not capture class boundaries very well. Therefore, it only skews the SVM and worsen the accuracy."
   ]
  },
  {
   "cell_type": "code",
   "metadata": {
    "ExecuteTime": {
     "end_time": "2024-11-08T08:17:04.355052Z",
     "start_time": "2024-11-08T04:03:49.670447Z"
    }
   },
   "source": [
    "'''\n",
    "svm_augmented = sklearn.svm.SVC()\n",
    "#clf_augmented = sklearn.pipeline.Pipeline(steps=[('scaler', scaler), ('svm', svm_augmented)])\n",
    "clf_augmented = sklearn.pipeline.Pipeline(steps=[('svm', svm_augmented)])\n",
    "clf_augmented.set_params(**clf.best_params_)\n",
    "clf_augmented.fit(np.concatenate([X_train, fake_X_train]), np.concatenate([y_train, fake_y_train]))\n",
    "'''"
   ],
   "outputs": [
    {
     "data": {
      "text/plain": [
       "\"\\nsvm_augmented = sklearn.svm.SVC()\\n#clf_augmented = sklearn.pipeline.Pipeline(steps=[('scaler', scaler), ('svm', svm_augmented)])\\nclf_augmented = sklearn.pipeline.Pipeline(steps=[('svm', svm_augmented)])\\nclf_augmented.set_params(**clf.best_params_)\\nclf_augmented.fit(np.concatenate([X_train, fake_X_train]), np.concatenate([y_train, fake_y_train]))\\n\""
      ]
     },
     "execution_count": 27,
     "metadata": {},
     "output_type": "execute_result"
    }
   ],
   "execution_count": 27
  },
  {
   "cell_type": "code",
   "metadata": {
    "ExecuteTime": {
     "end_time": "2024-11-08T08:17:04.355052Z",
     "start_time": "2024-11-08T04:03:49.732695Z"
    }
   },
   "source": "#clf_augmented.score(X_test, y_test)",
   "outputs": [],
   "execution_count": 28
  },
  {
   "cell_type": "markdown",
   "metadata": {},
   "source": [
    "## Statistical analysis"
   ]
  },
  {
   "cell_type": "markdown",
   "metadata": {},
   "source": [
    "We can apply a PCA to both the real and fake datasets to visually compare them. The distributions in the 2D main components are fairly similar, which is good!"
   ]
  },
  {
   "cell_type": "code",
   "metadata": {
    "ExecuteTime": {
     "end_time": "2024-11-08T08:17:04.355052Z",
     "start_time": "2024-11-08T04:03:49.809275Z"
    }
   },
   "source": [
    "'''\n",
    "%matplotlib inline\n",
    "from sklearn.decomposition import PCA\n",
    "pca = PCA(n_components=2)\n",
    "X_pca = pca.fit_transform(X_test)\n",
    "x_min, x_max = np.min(X_pca[:,0]), np.max(X_pca[:,0])\n",
    "y_min, y_max = np.min(X_pca[:,1]), np.max(X_pca[:,1])\n",
    "\n",
    "colors = ['red', 'blue', 'green', 'yellow', 'brown', 'purple', 'cyan', 'olive', 'pink', 'gray']\n",
    "for i, color in enumerate(colors):\n",
    "    idx = y_test == i\n",
    "    plt.scatter(X_pca[idx, 0], X_pca[idx, 1], c=color, s=1)\n",
    "    plt.ylim(y_min, y_max)\n",
    "    plt.xlim(x_min, x_max)\n",
    "    plt.title('PCA on test samples')\n",
    "plt.show()\n",
    "\n",
    "X_fake_pca = pca.transform(fake_X_test)\n",
    "for i, color in enumerate(colors):\n",
    "    idx = fake_y_test == i\n",
    "    plt.scatter(X_fake_pca[idx, 0], X_fake_pca[idx, 1], s=1, c=color)\n",
    "    plt.ylim(y_min, y_max)\n",
    "    plt.xlim(x_min, x_max)\n",
    "    plt.title('PCA on fake samples')\n",
    "plt.show()\n",
    "'''"
   ],
   "outputs": [
    {
     "data": {
      "text/plain": [
       "\"\\n%matplotlib inline\\nfrom sklearn.decomposition import PCA\\npca = PCA(n_components=2)\\nX_pca = pca.fit_transform(X_test)\\nx_min, x_max = np.min(X_pca[:,0]), np.max(X_pca[:,0])\\ny_min, y_max = np.min(X_pca[:,1]), np.max(X_pca[:,1])\\n\\ncolors = ['red', 'blue', 'green', 'yellow', 'brown', 'purple', 'cyan', 'olive', 'pink', 'gray']\\nfor i, color in enumerate(colors):\\n    idx = y_test == i\\n    plt.scatter(X_pca[idx, 0], X_pca[idx, 1], c=color, s=1)\\n    plt.ylim(y_min, y_max)\\n    plt.xlim(x_min, x_max)\\n    plt.title('PCA on test samples')\\nplt.show()\\n\\nX_fake_pca = pca.transform(fake_X_test)\\nfor i, color in enumerate(colors):\\n    idx = fake_y_test == i\\n    plt.scatter(X_fake_pca[idx, 0], X_fake_pca[idx, 1], s=1, c=color)\\n    plt.ylim(y_min, y_max)\\n    plt.xlim(x_min, x_max)\\n    plt.title('PCA on fake samples')\\nplt.show()\\n\""
      ]
     },
     "execution_count": 29,
     "metadata": {},
     "output_type": "execute_result"
    }
   ],
   "execution_count": 29
  },
  {
   "cell_type": "markdown",
   "metadata": {},
   "source": [
    "We can train a neural network classifier on the real dataset and the augmented dataset (real + fake)."
   ]
  },
  {
   "cell_type": "code",
   "metadata": {
    "ExecuteTime": {
     "end_time": "2024-11-08T08:17:04.356052Z",
     "start_time": "2024-11-08T04:03:49.886600Z"
    }
   },
   "source": [
    "'''\n",
    "def train(net, X_train, y_train, epochs=100):\n",
    "    dataset = torch.utils.data.TensorDataset(torch.from_numpy(X_train).float(),\n",
    "                                             torch.from_numpy(y_train).long())\n",
    "    loader = torch.utils.data.DataLoader(dataset, batch_size=1024, shuffle=True)\n",
    "    solver = optim.Adam(net.parameters(), amsgrad=True)\n",
    "    net.train()\n",
    "    it = 0\n",
    "    losses = []\n",
    "    for _ in tqdm(range(epochs)):\n",
    "        for X, y in loader:\n",
    "            it += 1\n",
    "            net.zero_grad()\n",
    "            X, y = X.cuda(), y.cuda()\n",
    "            out = net(X)\n",
    "            loss = F.cross_entropy(out, y)\n",
    "            loss.backward()\n",
    "            solver.step()\n",
    "            losses.append(loss.item())\n",
    "            if it % 10000 == 0:\n",
    "                print(\"Loss at {} = {}\".format(it, loss.item()))\n",
    "                plt.plot(losses) and plt.show()\n",
    "    return net\n",
    "'''"
   ],
   "outputs": [
    {
     "data": {
      "text/plain": [
       "'\\ndef train(net, X_train, y_train, epochs=100):\\n    dataset = torch.utils.data.TensorDataset(torch.from_numpy(X_train).float(),\\n                                             torch.from_numpy(y_train).long())\\n    loader = torch.utils.data.DataLoader(dataset, batch_size=1024, shuffle=True)\\n    solver = optim.Adam(net.parameters(), amsgrad=True)\\n    net.train()\\n    it = 0\\n    losses = []\\n    for _ in tqdm(range(epochs)):\\n        for X, y in loader:\\n            it += 1\\n            net.zero_grad()\\n            X, y = X.cuda(), y.cuda()\\n            out = net(X)\\n            loss = F.cross_entropy(out, y)\\n            loss.backward()\\n            solver.step()\\n            losses.append(loss.item())\\n            if it % 10000 == 0:\\n                print(\"Loss at {} = {}\".format(it, loss.item()))\\n                plt.plot(losses) and plt.show()\\n    return net\\n'"
      ]
     },
     "execution_count": 30,
     "metadata": {},
     "output_type": "execute_result"
    }
   ],
   "execution_count": 30
  },
  {
   "cell_type": "code",
   "metadata": {
    "ExecuteTime": {
     "end_time": "2024-11-08T08:17:04.356052Z",
     "start_time": "2024-11-08T04:03:49.964475Z"
    }
   },
   "source": "#C_real = train(Classifier().cuda(), X_train, y_train, epochs=10000)",
   "outputs": [],
   "execution_count": 31
  },
  {
   "cell_type": "code",
   "metadata": {
    "ExecuteTime": {
     "end_time": "2024-11-08T08:17:04.356052Z",
     "start_time": "2024-11-08T04:03:50.042551Z"
    }
   },
   "source": [
    "'''\n",
    "def test(net, X_test, y_test):\n",
    "    with torch.no_grad():\n",
    "        net.eval()\n",
    "        print(X_test.shape)\n",
    "        print(y_test.shape)\n",
    "        dataset = torch.utils.data.TensorDataset(torch.from_numpy(X_test).float(),\n",
    "                                                 torch.from_numpy(y_test).long())\n",
    "        loader = torch.utils.data.DataLoader(dataset, batch_size=mb_size)\n",
    "        pred = []\n",
    "        for X, y in loader:\n",
    "            X, y = X.cuda(), y.cuda()\n",
    "            out = net(X)\n",
    "            _, out = torch.max(out, 1)\n",
    "            pred.append(out.cpu().numpy())\n",
    "        pred = np.concatenate(pred)\n",
    "        print(classification_report(y_test, pred, digits=4))\n",
    "    return pred\n",
    "'''"
   ],
   "outputs": [
    {
     "data": {
      "text/plain": [
       "'\\ndef test(net, X_test, y_test):\\n    with torch.no_grad():\\n        net.eval()\\n        print(X_test.shape)\\n        print(y_test.shape)\\n        dataset = torch.utils.data.TensorDataset(torch.from_numpy(X_test).float(),\\n                                                 torch.from_numpy(y_test).long())\\n        loader = torch.utils.data.DataLoader(dataset, batch_size=mb_size)\\n        pred = []\\n        for X, y in loader:\\n            X, y = X.cuda(), y.cuda()\\n            out = net(X)\\n            _, out = torch.max(out, 1)\\n            pred.append(out.cpu().numpy())\\n        pred = np.concatenate(pred)\\n        print(classification_report(y_test, pred, digits=4))\\n    return pred\\n'"
      ]
     },
     "execution_count": 32,
     "metadata": {},
     "output_type": "execute_result"
    }
   ],
   "execution_count": 32
  },
  {
   "cell_type": "code",
   "metadata": {
    "ExecuteTime": {
     "end_time": "2024-11-08T08:17:04.356052Z",
     "start_time": "2024-11-08T04:03:50.118126Z"
    }
   },
   "source": "#test(C_real, X_test, y_test)",
   "outputs": [],
   "execution_count": 33
  },
  {
   "cell_type": "code",
   "metadata": {
    "ExecuteTime": {
     "end_time": "2024-11-08T08:17:04.356052Z",
     "start_time": "2024-11-08T04:03:50.195779Z"
    }
   },
   "source": "#C_fake = train(Classifier().cuda(), np.concatenate((X_train, fake_X_train)), np.concatenate((y_train, fake_y_train)), epochs=10000)",
   "outputs": [],
   "execution_count": 34
  },
  {
   "cell_type": "markdown",
   "metadata": {},
   "source": [
    "The augmented classifier seems to work at least as well as the original one. This is encouraging for using GANs as a data augmentation strategy in a weakly-supervised hyperspectral image classification context."
   ]
  },
  {
   "cell_type": "code",
   "metadata": {
    "ExecuteTime": {
     "end_time": "2024-11-08T08:17:04.356052Z",
     "start_time": "2024-11-08T04:03:50.275770Z"
    }
   },
   "source": "#test(C_fake, X_test, y_test)",
   "outputs": [],
   "execution_count": 35
  },
  {
   "cell_type": "code",
   "metadata": {
    "ExecuteTime": {
     "end_time": "2024-11-08T08:17:04.356052Z",
     "start_time": "2024-11-08T04:03:50.352472Z"
    }
   },
   "source": [],
   "outputs": [],
   "execution_count": null
  }
 ],
 "metadata": {
  "kernelspec": {
   "display_name": "timeless",
   "language": "python",
   "name": "python3"
  },
  "language_info": {
   "codemirror_mode": {
    "name": "ipython",
    "version": 3
   },
   "file_extension": ".py",
   "mimetype": "text/x-python",
   "name": "python",
   "nbconvert_exporter": "python",
   "pygments_lexer": "ipython3",
   "version": "3.5.2"
  },
  "varInspector": {
   "cols": {
    "lenName": 16,
    "lenType": 16,
    "lenVar": 40
   },
   "kernels_config": {
    "python": {
     "delete_cmd_postfix": "",
     "delete_cmd_prefix": "del ",
     "library": "var_list.py",
     "varRefreshCmd": "print(var_dic_list())"
    },
    "r": {
     "delete_cmd_postfix": ") ",
     "delete_cmd_prefix": "rm(",
     "library": "var_list.r",
     "varRefreshCmd": "cat(var_dic_list()) "
    }
   },
   "types_to_exclude": [
    "module",
    "function",
    "builtin_function_or_method",
    "instance",
    "_Feature"
   ],
   "window_display": false
  }
 },
 "nbformat": 4,
 "nbformat_minor": 2
}
